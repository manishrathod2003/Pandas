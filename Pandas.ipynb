{
  "nbformat": 4,
  "nbformat_minor": 0,
  "metadata": {
    "colab": {
      "provenance": [],
      "include_colab_link": true
    },
    "kernelspec": {
      "name": "python3",
      "display_name": "Python 3"
    },
    "language_info": {
      "name": "python"
    }
  },
  "cells": [
    {
      "cell_type": "markdown",
      "metadata": {
        "id": "view-in-github",
        "colab_type": "text"
      },
      "source": [
        "<a href=\"https://colab.research.google.com/github/manishrathod2003/Pandas/blob/main/Pandas.ipynb\" target=\"_parent\"><img src=\"https://colab.research.google.com/assets/colab-badge.svg\" alt=\"Open In Colab\"/></a>"
      ]
    },
    {
      "cell_type": "markdown",
      "source": [
        "# Series\n"
      ],
      "metadata": {
        "id": "AWRMcj8_ycj6"
      }
    },
    {
      "cell_type": "code",
      "source": [
        "import pandas as pd\n",
        "arr = [1, 2, 3, 4, 5]\n",
        "series = pd.Series(arr)\n",
        "print(series)"
      ],
      "metadata": {
        "colab": {
          "base_uri": "https://localhost:8080/"
        },
        "id": "MKpunMOLO5be",
        "outputId": "c3d3ad82-a4ab-4ae5-8a73-3b81042b6e50"
      },
      "execution_count": 16,
      "outputs": [
        {
          "output_type": "stream",
          "name": "stdout",
          "text": [
            "0    1\n",
            "1    2\n",
            "2    3\n",
            "3    4\n",
            "4    5\n",
            "dtype: int64\n"
          ]
        }
      ]
    },
    {
      "cell_type": "code",
      "source": [
        "# By position\n",
        "index_3 = series[3]\n",
        "print(\"Index 3 : \",index_3)"
      ],
      "metadata": {
        "colab": {
          "base_uri": "https://localhost:8080/"
        },
        "id": "9sRiH0UwwUKD",
        "outputId": "6ecb402f-6f7b-4c60-d08b-2f20f14c33d5"
      },
      "execution_count": 17,
      "outputs": [
        {
          "output_type": "stream",
          "name": "stdout",
          "text": [
            "Index 3 :  4\n"
          ]
        }
      ]
    },
    {
      "cell_type": "code",
      "source": [
        "arr = [1,2,3,4,5,6,7,8,9]\n",
        "series = pd.Series(arr,index=['a','b','c','d','e','f','g','h','i'])\n",
        "print(series)"
      ],
      "metadata": {
        "colab": {
          "base_uri": "https://localhost:8080/"
        },
        "id": "aEgxwNylPHXb",
        "outputId": "ed15c03b-186c-418a-90a9-995ceb9abcd8"
      },
      "execution_count": 18,
      "outputs": [
        {
          "output_type": "stream",
          "name": "stdout",
          "text": [
            "a    1\n",
            "b    2\n",
            "c    3\n",
            "d    4\n",
            "e    5\n",
            "f    6\n",
            "g    7\n",
            "h    8\n",
            "i    9\n",
            "dtype: int64\n"
          ]
        }
      ]
    },
    {
      "cell_type": "code",
      "source": [
        "arr = {'a': 100, 'b': 200, 'c': 300, 'd': 400, 'e': 500}\n",
        "\n",
        "series = pd.Series(arr)\n",
        "print(series)"
      ],
      "metadata": {
        "colab": {
          "base_uri": "https://localhost:8080/"
        },
        "id": "jQtbSxebwX3C",
        "outputId": "eeb79c9f-a28d-4d4b-f44d-3658a02cb234"
      },
      "execution_count": 19,
      "outputs": [
        {
          "output_type": "stream",
          "name": "stdout",
          "text": [
            "a    100\n",
            "b    200\n",
            "c    300\n",
            "d    400\n",
            "e    500\n",
            "dtype: int64\n"
          ]
        }
      ]
    },
    {
      "cell_type": "code",
      "source": [
        "# By index label\n",
        "print(series['b'])"
      ],
      "metadata": {
        "colab": {
          "base_uri": "https://localhost:8080/"
        },
        "id": "ih6zgcMiyASa",
        "outputId": "4e0e0f71-4f4b-46c4-f594-692217e9b885"
      },
      "execution_count": 20,
      "outputs": [
        {
          "output_type": "stream",
          "name": "stdout",
          "text": [
            "200\n"
          ]
        }
      ]
    },
    {
      "cell_type": "code",
      "source": [
        "sum_arr = series.sum()\n",
        "print(\"Sum of Array : \",sum_arr)"
      ],
      "metadata": {
        "colab": {
          "base_uri": "https://localhost:8080/"
        },
        "id": "1NPLvk17wdpB",
        "outputId": "14492389-2b55-46dc-c217-ce5a416f43a1"
      },
      "execution_count": 21,
      "outputs": [
        {
          "output_type": "stream",
          "name": "stdout",
          "text": [
            "Sum of Array :  1500\n"
          ]
        }
      ]
    },
    {
      "cell_type": "markdown",
      "source": [
        "# Dataframe"
      ],
      "metadata": {
        "id": "7ERmeUpkyg8p"
      }
    },
    {
      "cell_type": "code",
      "source": [
        "# From a dictionary\n",
        "data = {'Name': ['Krishna', 'Aniket', 'Lokesh'],\n",
        "        'Age': [21,21,21],\n",
        "        'City': ['Dabara', 'Balaghat', 'Indore']}\n",
        "df = pd.DataFrame(data)\n",
        "print(df)"
      ],
      "metadata": {
        "colab": {
          "base_uri": "https://localhost:8080/"
        },
        "id": "mDQKdIViynAp",
        "outputId": "72a8fbfc-b8aa-4506-d05c-19ed51eb8e50"
      },
      "execution_count": 22,
      "outputs": [
        {
          "output_type": "stream",
          "name": "stdout",
          "text": [
            "      Name  Age      City\n",
            "0  Krishna   21    Dabara\n",
            "1   Aniket   21  Balaghat\n",
            "2   Lokesh   21    Indore\n"
          ]
        }
      ]
    },
    {
      "cell_type": "code",
      "source": [
        "# From a list of lists\n",
        "data = [['Krishna', 21, 'Dabara'],\n",
        "        ['Aniket', 21, 'Balaghat'],\n",
        "        ['Lokesh', 21, 'Indore']]\n",
        "\n",
        "df = pd.DataFrame(data, columns=['Name', 'Age', 'City'])\n",
        "print(df)"
      ],
      "metadata": {
        "colab": {
          "base_uri": "https://localhost:8080/"
        },
        "id": "DD3W0nqky_EK",
        "outputId": "31f8bf13-b83c-44ab-d388-ff0a243e82da"
      },
      "execution_count": 23,
      "outputs": [
        {
          "output_type": "stream",
          "name": "stdout",
          "text": [
            "      Name  Age      City\n",
            "0  Krishna   21    Dabara\n",
            "1   Aniket   21  Balaghat\n",
            "2   Lokesh   21    Indore\n"
          ]
        }
      ]
    },
    {
      "cell_type": "markdown",
      "source": [
        "Accessing Columns"
      ],
      "metadata": {
        "id": "a9k5vElt0mPZ"
      }
    },
    {
      "cell_type": "code",
      "source": [
        "# Access a single column as a Series\n",
        "print(df['Age'])\n",
        "\n",
        "# Access multiple columns\n",
        "print(df[['Name', 'City']])\n"
      ],
      "metadata": {
        "colab": {
          "base_uri": "https://localhost:8080/"
        },
        "id": "uKrIjD640pbg",
        "outputId": "a1f742ff-0224-444d-fff1-2e1422f88935"
      },
      "execution_count": 24,
      "outputs": [
        {
          "output_type": "stream",
          "name": "stdout",
          "text": [
            "0    21\n",
            "1    21\n",
            "2    21\n",
            "Name: Age, dtype: int64\n",
            "      Name      City\n",
            "0  Krishna    Dabara\n",
            "1   Aniket  Balaghat\n",
            "2   Lokesh    Indore\n"
          ]
        }
      ]
    },
    {
      "cell_type": "code",
      "source": [
        "# Access a row by index (using .iloc or .loc)\n",
        "print(df.iloc[1])  # By position (2nd row)\n",
        "print(df.loc[2])   # By label (index)\n"
      ],
      "metadata": {
        "colab": {
          "base_uri": "https://localhost:8080/"
        },
        "id": "ujslnhm000sp",
        "outputId": "4f8f8fce-2c4a-4067-9de0-2fe544df8583"
      },
      "execution_count": 25,
      "outputs": [
        {
          "output_type": "stream",
          "name": "stdout",
          "text": [
            "Name      Aniket\n",
            "Age           21\n",
            "City    Balaghat\n",
            "Name: 1, dtype: object\n",
            "Name    Lokesh\n",
            "Age         21\n",
            "City    Indore\n",
            "Name: 2, dtype: object\n"
          ]
        }
      ]
    },
    {
      "cell_type": "code",
      "source": [
        "# Access a specific value (using .iloc for position, .loc for label)\n",
        "print(df.iloc[0, 1])  # Row 0, Column 1\n",
        "print(df.loc[0, 'City'])  # Row 0, 'City' column\n"
      ],
      "metadata": {
        "colab": {
          "base_uri": "https://localhost:8080/"
        },
        "id": "1Wwv5Cyc06bR",
        "outputId": "a308f4d2-59ce-442f-8ede-fc13bf82eed3"
      },
      "execution_count": 26,
      "outputs": [
        {
          "output_type": "stream",
          "name": "stdout",
          "text": [
            "21\n",
            "Dabara\n"
          ]
        }
      ]
    },
    {
      "cell_type": "markdown",
      "source": [
        "Selecting Data (Filtering)"
      ],
      "metadata": {
        "id": "8K_Moj6b1MGh"
      }
    },
    {
      "cell_type": "code",
      "source": [
        "# Filter rows where 'Age' > 20\n",
        "print(df[df['Age'] > 20])\n",
        "\n",
        "# Filter with multiple conditions\n",
        "print(df[(df['Age'] > 20) & (df['City'] == 'Indore')])\n"
      ],
      "metadata": {
        "colab": {
          "base_uri": "https://localhost:8080/"
        },
        "id": "r5gw63Ms1M8Z",
        "outputId": "5088b72a-f670-44c6-8506-3f42e9762539"
      },
      "execution_count": 27,
      "outputs": [
        {
          "output_type": "stream",
          "name": "stdout",
          "text": [
            "      Name  Age      City\n",
            "0  Krishna   21    Dabara\n",
            "1   Aniket   21  Balaghat\n",
            "2   Lokesh   21    Indore\n",
            "     Name  Age    City\n",
            "2  Lokesh   21  Indore\n"
          ]
        }
      ]
    }
  ]
}